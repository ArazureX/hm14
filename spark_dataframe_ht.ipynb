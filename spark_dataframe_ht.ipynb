{
 "cells": [
  {
   "cell_type": "code",
   "execution_count": 5,
   "metadata": {},
   "outputs": [],
   "source": [
    "from pyspark.sql import SparkSession, functions as F, types as T\n",
    "from pyspark.sql.functions import col, count,sum"
   ]
  },
  {
   "cell_type": "code",
   "execution_count": 6,
   "metadata": {
    "collapsed": false,
    "jupyter": {
     "outputs_hidden": false
    },
    "pycharm": {
     "is_executing": true
    }
   },
   "outputs": [
    {
     "name": "stderr",
     "output_type": "stream",
     "text": [
      "Setting default log level to \"WARN\".\n",
      "To adjust logging level use sc.setLogLevel(newLevel). For SparkR, use setLogLevel(newLevel).\n",
      "24/05/29 17:12:52 WARN NativeCodeLoader: Unable to load native-hadoop library for your platform... using builtin-java classes where applicable\n"
     ]
    }
   ],
   "source": [
    "spark = SparkSession.builder.master('local[*]').getOrCreate()"
   ]
  },
  {
   "cell_type": "code",
   "execution_count": 7,
   "metadata": {
    "collapsed": false,
    "jupyter": {
     "outputs_hidden": false
    }
   },
   "outputs": [
    {
     "name": "stdout",
     "output_type": "stream",
     "text": [
      "3.4.1\n"
     ]
    }
   ],
   "source": [
    "print(spark.version)"
   ]
  },
  {
   "cell_type": "code",
   "execution_count": 8,
   "metadata": {
    "collapsed": false,
    "jupyter": {
     "outputs_hidden": false
    }
   },
   "outputs": [],
   "source": [
    "actor_df = spark.read.csv('./data/actor.csv', header=True, inferSchema=True)\n",
    "address_df = spark.read.csv('./data/address.csv', header=True, inferSchema=True)\n",
    "category_df = spark.read.csv('./data/category.csv', header=True, inferSchema=True)\n",
    "city_df = spark.read.csv('./data/city.csv', header=True, inferSchema=True)\n",
    "country_df = spark.read.csv('./data/country.csv', header=True, inferSchema=True)\n",
    "customer_df = spark.read.csv('./data/customer.csv', header=True, inferSchema=True)\n",
    "film_df = spark.read.csv('./data/film.csv', header=True, inferSchema=True)\n",
    "film_actor_df = spark.read.csv('./data/film_actor.csv', header=True, inferSchema=True)\n",
    "film_category_df = spark.read.csv('./data/film_category.csv', header=True, inferSchema=True)\n",
    "inventory_df = spark.read.csv('./data/inventory.csv', header=True, inferSchema=True)\n",
    "language_df = spark.read.csv('./data/language.csv', header=True, inferSchema=True)\n",
    "payment_df = spark.read.csv('./data/payment.csv', header=True, inferSchema=True)\n",
    "rental_df = spark.read.csv('./data/rental.csv', header=True, inferSchema=True)\n",
    "staff_df = spark.read.csv('./data/staff.csv', header=True, inferSchema=True)\n",
    "store_df = spark.read.csv('./data/store.csv', header=True, inferSchema=True)"
   ]
  },
  {
   "cell_type": "markdown",
   "metadata": {
    "collapsed": false,
    "jupyter": {
     "outputs_hidden": false
    }
   },
   "source": [
    "# Домашнє завдання на тему Spark SQL\n",
    "\n",
    "Задачі з домашнього завдання на SQL потрібно розвʼязати за допомогою Spark SQL DataFrame API.\n",
    "\n",
    "- Дампи таблиць знаходяться в папці `data`. Датафрейми таблиць вже створені в клітинці вище.\n",
    "- Можете створювати стільки нових клітинок, скільки вам необхідно.\n",
    "- Розвʼязок кожної задачі має бути відображений в самому файлі (використати метод `.show()`)\n",
    "- код має бути оформлений у відповідності із одним із стилем, показаним лектором на занятті 13.\n",
    "\n",
    "**Увага!**\n",
    "Використовувати мову запитів SQL безпосередньо забороняється, потрібно використовувати виключно DataFrame API!\n"
   ]
  },
  {
   "cell_type": "markdown",
   "metadata": {
    "collapsed": false,
    "jupyter": {
     "outputs_hidden": false
    }
   },
   "source": [
    "1.\n",
    "Вивести кількість фільмів в кожній категорії.\n",
    "Результат відсортувати за спаданням."
   ]
  },
  {
   "cell_type": "code",
   "execution_count": 16,
   "metadata": {
    "collapsed": false,
    "jupyter": {
     "outputs_hidden": false
    }
   },
   "outputs": [
    {
     "name": "stdout",
     "output_type": "stream",
     "text": [
      "+-----------+-----------+\n",
      "|       name|count_films|\n",
      "+-----------+-----------+\n",
      "|     Sports|         74|\n",
      "|    Foreign|         73|\n",
      "|     Family|         69|\n",
      "|Documentary|         68|\n",
      "|  Animation|         66|\n",
      "|     Action|         64|\n",
      "|        New|         63|\n",
      "|      Drama|         62|\n",
      "|      Games|         61|\n",
      "|     Sci-Fi|         61|\n",
      "|   Children|         60|\n",
      "|     Comedy|         58|\n",
      "|     Travel|         57|\n",
      "|   Classics|         57|\n",
      "|     Horror|         56|\n",
      "|      Music|         51|\n",
      "+-----------+-----------+\n",
      "\n"
     ]
    }
   ],
   "source": [
    "joined_df = category_df.join(film_category_df, category_df.category_id == film_category_df.category_id)\n",
    "\n",
    "result_df = joined_df.groupBy(\"name\").agg(count(\"film_id\").alias(\"count_films\"))\n",
    "\n",
    "sorted_result_df = result_df.orderBy(col(\"count_films\").desc())\n",
    "\n",
    "sorted_result_df.show()"
   ]
  },
  {
   "cell_type": "markdown",
   "metadata": {
    "collapsed": false,
    "jupyter": {
     "outputs_hidden": false
    }
   },
   "source": [
    "2.\n",
    "Вивести 10 акторів, чиї фільми брали на прокат найбільше.\n",
    "Результат відсортувати за спаданням."
   ]
  },
  {
   "cell_type": "code",
   "execution_count": 10,
   "metadata": {
    "collapsed": false,
    "jupyter": {
     "outputs_hidden": false
    }
   },
   "outputs": [
    {
     "name": "stdout",
     "output_type": "stream",
     "text": [
      "+--------+----------+-----------+------------+\n",
      "|actor_id|first_name|  last_name|rental_count|\n",
      "+--------+----------+-----------+------------+\n",
      "|     107|      GINA|  DEGENERES|         753|\n",
      "|     181|   MATTHEW|     CARREY|         678|\n",
      "|     198|      MARY|     KEITEL|         674|\n",
      "|     144|    ANGELA|WITHERSPOON|         654|\n",
      "|     102|    WALTER|       TORN|         640|\n",
      "|      60|     HENRY|      BERRY|         612|\n",
      "|     150|     JAYNE|      NOLTE|         611|\n",
      "|      37|       VAL|     BOLGER|         605|\n",
      "|      23|    SANDRA|     KILMER|         604|\n",
      "|      90|      SEAN|    GUINESS|         599|\n",
      "+--------+----------+-----------+------------+\n",
      "\n"
     ]
    }
   ],
   "source": [
    "actor_df = actor_df.alias('a')\n",
    "film_actor_df = film_actor_df.alias('fa')\n",
    "film_df = film_df.alias('f')\n",
    "inventory_df = inventory_df.alias('i')\n",
    "rental_df = rental_df.alias('r')\n",
    "\n",
    "joined_df = actor_df \\\n",
    "    .join(film_actor_df, col('a.actor_id') == col('fa.actor_id')) \\\n",
    "    .join(film_df, col('fa.film_id') == col('f.film_id')) \\\n",
    "    .join(inventory_df, col('f.film_id') == col('i.film_id')) \\\n",
    "    .join(rental_df, col('i.inventory_id') == col('r.inventory_id'))\n",
    "\n",
    "result_df = joined_df.groupBy(col('a.actor_id'), col('a.first_name'), col('a.last_name')) \\\n",
    "    .agg(count('r.rental_id').alias('rental_count'))\n",
    "\n",
    "sorted_result_df = result_df.orderBy(col('rental_count').desc()).limit(10)\n",
    "\n",
    "sorted_result_df.show()"
   ]
  },
  {
   "cell_type": "markdown",
   "metadata": {
    "collapsed": false,
    "jupyter": {
     "outputs_hidden": false
    }
   },
   "source": [
    "3.\n",
    "Вивести категорія фільмів, на яку було витрачено найбільше грошей\n",
    "в прокаті"
   ]
  },
  {
   "cell_type": "code",
   "execution_count": 38,
   "metadata": {
    "collapsed": false,
    "jupyter": {
     "outputs_hidden": false
    }
   },
   "outputs": [
    {
     "name": "stdout",
     "output_type": "stream",
     "text": [
      "+------+-----------------+\n",
      "|  name|             Summ|\n",
      "+------+-----------------+\n",
      "|Sports|5314.209999999848|\n",
      "+------+-----------------+\n",
      "\n"
     ]
    }
   ],
   "source": [
    "joined_df = payment_df \\\n",
    "    .join(rental_df, payment_df.rental_id == rental_df.rental_id) \\\n",
    "    .join(inventory_df, rental_df.inventory_id == inventory_df.inventory_id) \\\n",
    "    .join(film_category_df, inventory_df.film_id == film_category_df.film_id) \\\n",
    "    .join(category_df, film_category_df.category_id == category_df.category_id)\n",
    "\n",
    "result_df = joined_df.groupBy(\"name\") \\\n",
    "    .agg(sum(\"amount\").alias(\"Summ\"))\n",
    "\n",
    "sorted_result_df = result_df.orderBy(col(\"Summ\").desc()).limit(1)\n",
    "\n",
    "sorted_result_df.show()"
   ]
  },
  {
   "cell_type": "markdown",
   "metadata": {
    "collapsed": false,
    "jupyter": {
     "outputs_hidden": false
    }
   },
   "source": [
    "4.\n",
    "Вивести назви фільмів, яких не має в inventory."
   ]
  },
  {
   "cell_type": "code",
   "execution_count": 12,
   "metadata": {
    "collapsed": false,
    "jupyter": {
     "outputs_hidden": false
    }
   },
   "outputs": [
    {
     "name": "stdout",
     "output_type": "stream",
     "text": [
      "+--------------------+\n",
      "|               title|\n",
      "+--------------------+\n",
      "|      ALICE FANTASIA|\n",
      "|         APOLLO TEEN|\n",
      "|      ARGONAUTS TOWN|\n",
      "|       ARK RIDGEMONT|\n",
      "|ARSENIC INDEPENDENCE|\n",
      "|   BOONDOCK BALLROOM|\n",
      "|       BUTCH PANTHER|\n",
      "|       CATCH AMISTAD|\n",
      "| CHINATOWN GLADIATOR|\n",
      "|      CHOCOLATE DUCK|\n",
      "|COMMANDMENTS EXPRESS|\n",
      "|    CROSSING DIVORCE|\n",
      "|     CROWDS TELEMARK|\n",
      "|    CRYSTAL BREAKING|\n",
      "|          DAZED PUNK|\n",
      "|DELIVERANCE MULHO...|\n",
      "|   FIREHOUSE VIETNAM|\n",
      "|       FLOATS GARDEN|\n",
      "|FRANKENSTEIN STRA...|\n",
      "|  GLADIATOR WESTWARD|\n",
      "+--------------------+\n",
      "only showing top 20 rows\n",
      "\n"
     ]
    }
   ],
   "source": [
    "result_df = film_df.alias('f') \\\n",
    "    .join(inventory_df.alias('i'), col('f.film_id') == col('i.film_id'), how='left_anti') \\\n",
    "    .select('f.title')\n",
    "\n",
    "result_df.show()"
   ]
  },
  {
   "cell_type": "markdown",
   "metadata": {
    "collapsed": false,
    "jupyter": {
     "outputs_hidden": false
    }
   },
   "source": [
    "5.\n",
    "Вивести топ 3 актори, які найбільше зʼявлялись в категорії фільмів “Children”"
   ]
  },
  {
   "cell_type": "code",
   "execution_count": 42,
   "metadata": {
    "collapsed": false,
    "jupyter": {
     "outputs_hidden": false
    },
    "pycharm": {
     "is_executing": true
    }
   },
   "outputs": [
    {
     "name": "stdout",
     "output_type": "stream",
     "text": [
      "+--------+----------+---------+----------+\n",
      "|actor_id|first_name|last_name|film_count|\n",
      "+--------+----------+---------+----------+\n",
      "|      17|     HELEN|   VOIGHT|         7|\n",
      "|     127|     KEVIN|  GARLAND|         5|\n",
      "|     140|    WHOOPI|     HURT|         5|\n",
      "+--------+----------+---------+----------+\n",
      "\n"
     ]
    }
   ],
   "source": [
    "film_actor_df = film_actor_df.withColumnRenamed(\"actor_id\", \"fa_actor_id\")\n",
    "film_category_df = film_category_df.withColumnRenamed(\"film_id\", \"fc_film_id\")\n",
    "film_category_df = film_category_df.withColumnRenamed(\"category_id\", \"fc_category_id\")\n",
    "\n",
    "joined_df = actor_df \\\n",
    "    .join(film_actor_df, actor_df.actor_id == film_actor_df.fa_actor_id) \\\n",
    "    .join(film_category_df, film_actor_df.film_id == film_category_df.fc_film_id) \\\n",
    "    .join(category_df, film_category_df.fc_category_id == category_df.category_id)\n",
    "\n",
    "filtered_df = joined_df.filter(category_df.name == 'Children')\n",
    "\n",
    "result_df = filtered_df.groupBy(\"actor_id\", \"first_name\", \"last_name\") \\\n",
    "    .agg(count(\"fa_actor_id\").alias(\"film_count\"))\n",
    "\n",
    "sorted_result_df = result_df.orderBy(col(\"film_count\").desc()).limit(3)\n",
    "\n",
    "sorted_result_df.show()"
   ]
  },
  {
   "cell_type": "markdown",
   "metadata": {
    "collapsed": false,
    "jupyter": {
     "outputs_hidden": false
    }
   },
   "source": [
    "Stop Spark session:"
   ]
  },
  {
   "cell_type": "code",
   "execution_count": null,
   "metadata": {
    "collapsed": false,
    "jupyter": {
     "outputs_hidden": false
    }
   },
   "outputs": [],
   "source": [
    "spark.stop()"
   ]
  }
 ],
 "metadata": {
  "kernelspec": {
   "display_name": "Python 3 (ipykernel)",
   "language": "python",
   "name": "python3"
  },
  "language_info": {
   "codemirror_mode": {
    "name": "ipython",
    "version": 3
   },
   "file_extension": ".py",
   "mimetype": "text/x-python",
   "name": "python",
   "nbconvert_exporter": "python",
   "pygments_lexer": "ipython3",
   "version": "3.12.3"
  }
 },
 "nbformat": 4,
 "nbformat_minor": 4
}
